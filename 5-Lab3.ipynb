{
 "cells": [
  {
   "cell_type": "code",
   "execution_count": 151,
   "metadata": {},
   "outputs": [],
   "source": [
    "# import important packages\n",
    "import numpy as np\n",
    "import pandas as pd\n",
    "import matplotlib.pyplot as plt\n",
    "import seaborn as sns\n",
    "\n",
    "plt.style.use('seaborn')\n",
    "from matplotlib import rcParams\n",
    "rcParams[\"figure.figsize\"] = 10, 6 # figure size in inches\n",
    "%matplotlib inline\n",
    "\n",
    "from sklearn.model_selection import train_test_split\n",
    "from sklearn.pipeline import Pipeline\n",
    "from sklearn.compose import ColumnTransformer\n",
    "from sklearn.preprocessing import StandardScaler, MinMaxScaler, OneHotEncoder\n",
    "from sklearn.impute import SimpleImputer\n",
    "\n",
    "from sklearn.ensemble import RandomForestClassifier, RandomForestRegressor\n",
    "from sklearn.metrics import accuracy_score\n",
    "\n",
    "import warnings\n",
    "warnings.filterwarnings(\"ignore\")"
   ]
  },
  {
   "cell_type": "markdown",
   "metadata": {},
   "source": [
    "Step 1:\n",
    "- Read the test and train datasets\n",
    "- Separate the SalePrice as target variable\n",
    "- Create a train and validation dataset from the train dataset that you created in the first step\n",
    "- Check if you have any categorical features\n",
    "- Check if you have any numerical features"
   ]
  },
  {
   "cell_type": "code",
   "execution_count": 152,
   "metadata": {},
   "outputs": [
    {
     "data": {
      "text/plain": [
       "object     43\n",
       "int64      34\n",
       "float64     3\n",
       "dtype: int64"
      ]
     },
     "execution_count": 152,
     "metadata": {},
     "output_type": "execute_result"
    }
   ],
   "source": [
    "traindat = pd.read_csv('data/train.csv', index_col=0)\n",
    "testdat = pd.read_csv('data/test.csv', index_col=0)\n",
    "traindat.dtypes.value_counts()"
   ]
  },
  {
   "cell_type": "markdown",
   "metadata": {},
   "source": [
    "# Step 1"
   ]
  },
  {
   "cell_type": "code",
   "execution_count": 153,
   "metadata": {},
   "outputs": [],
   "source": [
    "def partition_cols_bytype(df):\n",
    "    out = {}\n",
    "    for type in df.dtypes.unique().astype(str):\n",
    "        out[type] = df.columns[df.dtypes==type]\n",
    "    return out\n"
   ]
  },
  {
   "cell_type": "code",
   "execution_count": 154,
   "metadata": {},
   "outputs": [],
   "source": [
    "X0 = traindat.drop('SalePrice', axis=1)\n",
    "y0 = traindat.SalePrice.astype('float64')\n",
    "\n",
    "Xtrn, Xval, ytrn, yval = train_test_split(X0, y0)"
   ]
  },
  {
   "cell_type": "markdown",
   "metadata": {},
   "source": [
    "## Dtype stuff:"
   ]
  },
  {
   "cell_type": "code",
   "execution_count": 155,
   "metadata": {},
   "outputs": [
    {
     "data": {
      "text/plain": [
       "{'Int64': Index(['MSSubClass', 'OverallQual', 'OverallCond', 'YearBuilt', 'YearRemodAdd',\n",
       "        'BsmtFullBath', 'BsmtHalfBath', 'FullBath', 'HalfBath', 'BedroomAbvGr',\n",
       "        'KitchenAbvGr', 'TotRmsAbvGrd', 'Fireplaces', 'GarageYrBlt',\n",
       "        'GarageCars', 'MoSold', 'YrSold'],\n",
       "       dtype='object'),\n",
       " 'object': Index(['MSZoning', 'Street', 'Alley', 'LotShape', 'LandContour', 'Utilities',\n",
       "        'LotConfig', 'LandSlope', 'Neighborhood', 'Condition1', 'Condition2',\n",
       "        'BldgType', 'HouseStyle', 'RoofStyle', 'RoofMatl', 'Exterior1st',\n",
       "        'Exterior2nd', 'MasVnrType', 'ExterQual', 'ExterCond', 'Foundation',\n",
       "        'BsmtQual', 'BsmtCond', 'BsmtExposure', 'BsmtFinType1', 'BsmtFinType2',\n",
       "        'Heating', 'HeatingQC', 'CentralAir', 'Electrical', 'KitchenQual',\n",
       "        'Functional', 'FireplaceQu', 'GarageType', 'GarageFinish', 'GarageQual',\n",
       "        'GarageCond', 'PavedDrive', 'PoolQC', 'Fence', 'MiscFeature',\n",
       "        'SaleType', 'SaleCondition'],\n",
       "       dtype='object'),\n",
       " 'float64': Index(['LotFrontage', 'LotArea', 'MasVnrArea', 'BsmtFinSF1', 'BsmtFinSF2',\n",
       "        'BsmtUnfSF', 'TotalBsmtSF', '1stFlrSF', '2ndFlrSF', 'LowQualFinSF',\n",
       "        'GrLivArea', 'GarageArea', 'WoodDeckSF', 'OpenPorchSF', 'EnclosedPorch',\n",
       "        '3SsnPorch', 'ScreenPorch', 'PoolArea', 'MiscVal'],\n",
       "       dtype='object')}"
      ]
     },
     "execution_count": 155,
     "metadata": {},
     "output_type": "execute_result"
    }
   ],
   "source": [
    "# convert Garage year built to integer, and all others to nullable pandas integers:\n",
    "X0.GarageYrBlt = X0.GarageYrBlt.astype('Int64')\n",
    "X0[partition_cols_bytype(X0)['int64']] = X0[partition_cols_bytype(X0)['int64']].astype('Int64')\n",
    "\n",
    "# convert all features in square feet to floats:\n",
    "cols_in_sqft = []\n",
    "for substr in ['SF', 'Area', 'Porch']:\n",
    "    cols_in_sqft += X0.columns[X0.columns.str.contains(substr)].to_list()\n",
    "    cols_in_sqft = list(np.unique(cols_in_sqft))\n",
    "X0[cols_in_sqft] = X0[cols_in_sqft].astype('float64')\n",
    "# convert all features in USD to floats:\n",
    "X0[['MiscVal']] = X0[['MiscVal']].astype('float64')\n",
    "\n",
    "partition_cols_bytype(X0)"
   ]
  },
  {
   "cell_type": "code",
   "execution_count": 156,
   "metadata": {},
   "outputs": [],
   "source": [
    "for col in partition_cols_bytype(X0)['object']:\n",
    "    unqvals = X0[col].unique()\n",
    "    if any([val.isdigit() for val in unqvals[~pd.isnull(unqvals)]]):\n",
    "        print(col, X0[col].unique())\n",
    "# this confirms all object columns are categorical (not numeric in string format)"
   ]
  },
  {
   "cell_type": "code",
   "execution_count": 157,
   "metadata": {},
   "outputs": [
    {
     "data": {
      "text/plain": [
       "{'object': Index(['MSSubClass', 'MSZoning', 'Street', 'Alley', 'LotShape', 'LandContour',\n",
       "        'Utilities', 'LotConfig', 'LandSlope', 'Neighborhood', 'Condition1',\n",
       "        'Condition2', 'BldgType', 'HouseStyle', 'OverallQual', 'OverallCond',\n",
       "        'RoofStyle', 'RoofMatl', 'Exterior1st', 'Exterior2nd', 'MasVnrType',\n",
       "        'ExterQual', 'ExterCond', 'Foundation', 'BsmtQual', 'BsmtCond',\n",
       "        'BsmtExposure', 'BsmtFinType1', 'BsmtFinType2', 'Heating', 'HeatingQC',\n",
       "        'CentralAir', 'Electrical', 'KitchenQual', 'Functional', 'FireplaceQu',\n",
       "        'GarageType', 'GarageFinish', 'GarageQual', 'GarageCond', 'PavedDrive',\n",
       "        'PoolQC', 'Fence', 'MiscFeature', 'SaleType', 'SaleCondition'],\n",
       "       dtype='object'),\n",
       " 'float64': Index(['LotFrontage', 'LotArea', 'MasVnrArea', 'BsmtFinSF1', 'BsmtFinSF2',\n",
       "        'BsmtUnfSF', 'TotalBsmtSF', '1stFlrSF', '2ndFlrSF', 'LowQualFinSF',\n",
       "        'GrLivArea', 'GarageArea', 'WoodDeckSF', 'OpenPorchSF', 'EnclosedPorch',\n",
       "        '3SsnPorch', 'ScreenPorch', 'PoolArea', 'MiscVal'],\n",
       "       dtype='object'),\n",
       " 'Int64': Index(['YearBuilt', 'YearRemodAdd', 'BsmtFullBath', 'BsmtHalfBath', 'FullBath',\n",
       "        'HalfBath', 'BedroomAbvGr', 'KitchenAbvGr', 'TotRmsAbvGrd',\n",
       "        'Fireplaces', 'GarageYrBlt', 'GarageCars', 'MoSold', 'YrSold'],\n",
       "       dtype='object')}"
      ]
     },
     "execution_count": 157,
     "metadata": {},
     "output_type": "execute_result"
    }
   ],
   "source": [
    "# 'MSSubClass' looks like an integer but is actually nominal categorical:\n",
    "X0[['MSSubClass']] = X0[['MSSubClass']].astype('str')\n",
    "# 'OverallQual' & 'OverallCond' look like integers but are actually ordinal categorical:\n",
    "X0[['OverallQual', 'OverallCond']] = X0[['OverallQual', 'OverallCond']].astype('str')\n",
    "partition_cols_bytype(X0)"
   ]
  },
  {
   "cell_type": "code",
   "execution_count": 158,
   "metadata": {},
   "outputs": [],
   "source": [
    "partition = partition_cols_bytype(X0)\n",
    "\n",
    "cont_fts = partition['float64'] # continuous numerical features\n",
    "dsct_fts = partition['Int64'] # discrete numerical features\n",
    "\n",
    "numr_fts = cont_fts.append(dsct_fts)"
   ]
  },
  {
   "cell_type": "code",
   "execution_count": 159,
   "metadata": {},
   "outputs": [
    {
     "data": {
      "text/plain": [
       "(Index(['MSSubClass', 'MSZoning', 'LandContour', 'LotConfig', 'Neighborhood',\n",
       "        'Condition1', 'Condition2', 'BldgType', 'HouseStyle', 'RoofStyle',\n",
       "        'RoofMatl', 'Exterior1st', 'Exterior2nd', 'MasVnrType', 'Foundation',\n",
       "        'BsmtQual', 'BsmtCond', 'BsmtExposure', 'BsmtFinType1', 'BsmtFinType2',\n",
       "        'Heating', 'Electrical', 'Functional', 'FireplaceQu', 'GarageType',\n",
       "        'GarageFinish', 'GarageQual', 'GarageCond', 'PoolQC', 'MiscFeature',\n",
       "        'SaleType', 'SaleCondition'],\n",
       "       dtype='object'),\n",
       " Index(['Street', 'Alley', 'Utilities', 'CentralAir'], dtype='object'),\n",
       " Index(['LotShape', 'Utilities', 'LandSlope', 'OverallQual', 'OverallCond',\n",
       "        'ExterQual', 'ExterCond', 'HeatingQC', 'KitchenQual', 'PavedDrive',\n",
       "        'Fence'],\n",
       "       dtype='object'))"
      ]
     },
     "execution_count": 159,
     "metadata": {},
     "output_type": "execute_result"
    }
   ],
   "source": [
    "catg_fts = partition['object'] # all categorical features\n",
    "\n",
    "binary_fts = catg_fts[X0[catg_fts].nunique()==2]\n",
    "ordinal_fts = pd.Index(['LotShape', 'Utilities', 'LandSlope', 'OverallQual', 'OverallCond', 'ExterQual', 'ExterCond', 'HeatingQC', 'KitchenQual', 'PavedDrive', 'Fence'])\n",
    "# note ['BsmtQual', 'BsmtCond', 'BsmtExposure', 'Functional', 'FireplaceQu', 'GarageFinish', 'GarageQual', 'GarageCond', 'PoolQC'] are somewhat ordinal, except they have a \"none of the above\" option which makes it complicated\n",
    "nominal_fts = catg_fts.drop(binary_fts.append(ordinal_fts))\n",
    "nominal_fts, binary_fts, ordinal_fts"
   ]
  },
  {
   "cell_type": "markdown",
   "metadata": {},
   "source": [
    "# Step 2"
   ]
  },
  {
   "cell_type": "markdown",
   "metadata": {},
   "source": [
    "Step 2:\n",
    "- Create a pipeline of SimpleImputer and StandardScaler transformers for the numerical data\n",
    "- Create a SimpleImputer and OneHotEncoder for the categorical data\n",
    "- Bundle the pre-processing steps into a column transformer\n",
    "- Create a RandomForestRegressor"
   ]
  },
  {
   "cell_type": "code",
   "execution_count": 160,
   "metadata": {},
   "outputs": [],
   "source": [
    "num_tf = Pipeline([\n",
    "    ('numimputer', SimpleImputer(missing_values=np.nan, strategy='median')),\n",
    "    ('scaler', StandardScaler())\n",
    "])\n",
    "\n",
    "cat_tf = Pipeline([\n",
    "    ('catimputer', SimpleImputer(missing_values=np.nan, strategy='most_frequent')),\n",
    "    ('encoder', OneHotEncoder(drop='if_binary', handle_unknown='ignore'))\n",
    "])\n",
    "\n",
    "preprocessor = ColumnTransformer([\n",
    "    ('cat', cat_tf, catg_fts),\n",
    "    ('num', num_tf, numr_fts)\n",
    "])"
   ]
  },
  {
   "cell_type": "code",
   "execution_count": 161,
   "metadata": {},
   "outputs": [
    {
     "name": "stdout",
     "output_type": "stream",
     "text": [
      "0.8036396190516942\n"
     ]
    }
   ],
   "source": [
    "model = Pipeline([\n",
    "    ('preprocessor', preprocessor),\n",
    "    ('estimator', RandomForestRegressor(min_samples_leaf=30))\n",
    "])\n",
    "\n",
    "model.fit(Xtrn, ytrn)\n",
    "print(model.score(Xval, yval))"
   ]
  },
  {
   "cell_type": "code",
   "execution_count": 162,
   "metadata": {},
   "outputs": [],
   "source": [
    "pred_prices = model.predict(testdat)"
   ]
  }
 ],
 "metadata": {
  "kernelspec": {
   "display_name": "Python 3.9.12 ('datsci')",
   "language": "python",
   "name": "python3"
  },
  "language_info": {
   "codemirror_mode": {
    "name": "ipython",
    "version": 3
   },
   "file_extension": ".py",
   "mimetype": "text/x-python",
   "name": "python",
   "nbconvert_exporter": "python",
   "pygments_lexer": "ipython3",
   "version": "3.9.12"
  },
  "orig_nbformat": 4,
  "vscode": {
   "interpreter": {
    "hash": "ff6bbc059f09f5d67763002880d565854665e18376ee4b40865bcf6ed65b96b4"
   }
  }
 },
 "nbformat": 4,
 "nbformat_minor": 2
}
